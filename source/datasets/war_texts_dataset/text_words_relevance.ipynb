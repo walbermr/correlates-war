{
 "cells": [
  {
   "cell_type": "code",
   "execution_count": 11,
   "metadata": {
    "collapsed": true
   },
   "outputs": [],
   "source": [
    "import json\n",
    "import nltk\n",
    "from nltk import FreqDist\n",
    "from nltk.tokenize import RegexpTokenizer\n",
    "from nltk.corpus import stopwords\n",
    "from operator import itemgetter"
   ]
  },
  {
   "cell_type": "code",
   "execution_count": 53,
   "metadata": {},
   "outputs": [],
   "source": [
    "with open('inter_war_texts_raw.json') as data_file:    \n",
    "    data = json.load(data_file)"
   ]
  },
  {
   "cell_type": "code",
   "execution_count": 54,
   "metadata": {
    "collapsed": true
   },
   "outputs": [],
   "source": [
    "def preprocess(sentence):\n",
    "    \n",
    "    sentence = sentence.lower()\n",
    "    tokenizer = RegexpTokenizer(r'([0-9]+([,.][0-9]{1,3})+)|((?<!\\[)\\b\\d+\\b(?!\\]))|(\\b([A-Z]\\.)+)|(\\w+)')\n",
    "    tokens = [a or b or c or d or e or f for a,b,c,d,e,f in tokenizer.tokenize(sentence)]\n",
    "    filtered_words = [w for w in tokens if not w in stopwords.words('english')]\n",
    "    \n",
    "    return filtered_words"
   ]
  },
  {
   "cell_type": "code",
   "execution_count": 55,
   "metadata": {},
   "outputs": [],
   "source": [
    "war_texts_list = []\n",
    "for war in data['texts']:\n",
    "    war_id = war['war_id']\n",
    "    war_relevant_words_dict = {u'war_id': war_id, u'words': []}\n",
    "    \n",
    "    text = war['text']\n",
    "    if text:\n",
    "        preprocessed_text = preprocess(text)\n",
    "        fdist = FreqDist(preprocessed_text)\n",
    "        relevant_words_tup = sorted(fdist.iteritems(), key=itemgetter(1), reverse=True)[:30]\n",
    "        for tup in relevant_words_tup:\n",
    "            d = {u'text': tup[0], u'size': tup[1]}\n",
    "            war_relevant_words_dict[u'words'].append(d)\n",
    "            \n",
    "    war_texts_list.append(war_relevant_words_dict)"
   ]
  },
  {
   "cell_type": "code",
   "execution_count": 56,
   "metadata": {
    "collapsed": true
   },
   "outputs": [],
   "source": [
    "with open('inter_war_texts.json', 'w') as fp:\n",
    "    json.dump(war_texts_list, fp, indent=4)"
   ]
  }
 ],
 "metadata": {
  "kernelspec": {
   "display_name": "c_o_w",
   "language": "python",
   "name": "c_o_w"
  },
  "language_info": {
   "codemirror_mode": {
    "name": "ipython",
    "version": 2
   },
   "file_extension": ".py",
   "mimetype": "text/x-python",
   "name": "python",
   "nbconvert_exporter": "python",
   "pygments_lexer": "ipython2",
   "version": "2.7.12"
  }
 },
 "nbformat": 4,
 "nbformat_minor": 2
}
